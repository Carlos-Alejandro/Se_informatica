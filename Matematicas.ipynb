{
 "cells": [
  {
   "cell_type": "code",
   "execution_count": 14,
   "id": "49a74b6a",
   "metadata": {},
   "outputs": [
    {
     "name": "stdout",
     "output_type": "stream",
     "text": [
      "Ingresa el valor de a: 59\n",
      "Ingresa el valor de b: 5\n",
      "Suma: 64.0\n",
      "Resta: 54.0\n",
      "Multiplicación: 295.0\n",
      "División: 11.8\n",
      "Raíz cuadrada: 7.681145747868608\n"
     ]
    }
   ],
   "source": [
    "from matematicas import suma, resta, multiplicacion, potencia, raiz_cuadrada, division\n",
    "\n",
    "\n",
    "a = float(input(\"Ingresa el valor de a: \"))\n",
    "b = float(input(\"Ingresa el valor de b: \"))\n",
    "\n",
    "print(f\"Suma: {suma.suma(a, b)}\")\n",
    "print(f\"Resta: {resta.resta(a, b)}\")\n",
    "print(f\"Multiplicación: {multiplicacion.multiplicacion(a, b)}\")\n",
    "print(f\"División: {division.division(a, b)}\")\n",
    "print(f\"Raíz cuadrada: {raiz_cuadrada.raiz_cuadrada(a)}\")"
   ]
  },
  {
   "cell_type": "code",
   "execution_count": null,
   "id": "d3b4393c",
   "metadata": {},
   "outputs": [],
   "source": []
  },
  {
   "cell_type": "code",
   "execution_count": null,
   "id": "4900fb14",
   "metadata": {},
   "outputs": [],
   "source": []
  }
 ],
 "metadata": {
  "kernelspec": {
   "display_name": "Python 3 (ipykernel)",
   "language": "python",
   "name": "python3"
  },
  "language_info": {
   "codemirror_mode": {
    "name": "ipython",
    "version": 3
   },
   "file_extension": ".py",
   "mimetype": "text/x-python",
   "name": "python",
   "nbconvert_exporter": "python",
   "pygments_lexer": "ipython3",
   "version": "3.11.4"
  }
 },
 "nbformat": 4,
 "nbformat_minor": 5
}
