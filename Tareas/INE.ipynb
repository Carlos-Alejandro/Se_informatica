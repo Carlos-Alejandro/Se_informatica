{
 "cells": [
  {
   "cell_type": "code",
   "execution_count": 2,
   "id": "eba8ad3a",
   "metadata": {},
   "outputs": [
    {
     "name": "stdout",
     "output_type": "stream",
     "text": [
      "Nombre: Carlos \n",
      "Apellidos: Alejandro \n",
      "Dirección: 203\n",
      "Fecha de Nacimiento: 04/11/2000\n",
      "Sexo:M\n",
      "Clave de Elector: ASDFGH125545\n",
      "CURP: ASWERTSDFSDFSDFS45551\n",
      "Estado: Q\n",
      "Municipio: Benito Juarez\n",
      "Sección: 014\n",
      "Localidad: 011\n",
      "Emisión: 103\n",
      "Vigencia: 11/28\n",
      "Datos de la INE almacenados en datos_ine.txt\n"
     ]
    }
   ],
   "source": [
    "def solicitar_datos_ine():\n",
    "    ine = {}\n",
    "    ine['nombre'] = input(\"Nombre: \")\n",
    "    ine['apellidos'] = input(\"Apellidos: \")\n",
    "    ine['direccion'] = input(\"Dirección: \")\n",
    "    ine['fecha_nacimiento'] = input(\"Fecha de Nacimiento: \")\n",
    "    ine['sexo'] = input (\"Sexo:\")\n",
    "    ine['clave_elector'] = input(\"Clave de Elector: \")\n",
    "    ine['curp'] = input(\"CURP: \")\n",
    "    ine['estado'] = input(\"Estado: \")\n",
    "    ine['municipio'] = input(\"Municipio: \")\n",
    "    ine['seccion'] = input(\"Sección: \")\n",
    "    ine['localidad'] = input(\"Localidad: \")\n",
    "    ine['emision'] = input(\"Emisión: \")\n",
    "    ine['vigencia'] = input(\"Vigencia: \")\n",
    "    \n",
    "    return ine\n",
    "\n",
    "def escribir_datos_en_archivo(datos_ine, archivo):\n",
    "    with open(archivo, 'w') as file:\n",
    "        for clave, valor in datos_ine.items():\n",
    "            file.write(f\"{clave}: {valor}\\n\")\n",
    "\n",
    "if __name__ == \"__main__\":\n",
    "    ine = solicitar_datos_ine()\n",
    "    archivo = \"datos_ine.txt\"\n",
    "    escribir_datos_en_archivo(ine, archivo)\n",
    "    print(\"Datos de la INE almacenados en\", archivo)"
   ]
  },
  {
   "cell_type": "code",
   "execution_count": 4,
   "id": "9c58af9d",
   "metadata": {},
   "outputs": [
    {
     "name": "stdout",
     "output_type": "stream",
     "text": [
      "nombre: Carlos \n",
      "apellidos: Alejandro \n",
      "direccion: 203\n",
      "fecha_nacimiento: 04/11/2000\n",
      "sexo: M\n",
      "clave_elector: ASDFGH125545\n",
      "curp: ASWERTSDFSDFSDFS45551\n",
      "estado: Q\n",
      "municipio: Benito Juarez\n",
      "seccion: 014\n",
      "localidad: 011\n",
      "emision: 103\n",
      "vigencia: 11/28\n",
      "\n"
     ]
    }
   ],
   "source": [
    "leer =  open(\"datos_ine.txt\", 'r')\n",
    "respuesta = leer.read()\n",
    "print(respuesta)"
   ]
  },
  {
   "cell_type": "code",
   "execution_count": null,
   "id": "51fd0b2c",
   "metadata": {},
   "outputs": [],
   "source": []
  }
 ],
 "metadata": {
  "kernelspec": {
   "display_name": "Python 3 (ipykernel)",
   "language": "python",
   "name": "python3"
  },
  "language_info": {
   "codemirror_mode": {
    "name": "ipython",
    "version": 3
   },
   "file_extension": ".py",
   "mimetype": "text/x-python",
   "name": "python",
   "nbconvert_exporter": "python",
   "pygments_lexer": "ipython3",
   "version": "3.11.4"
  }
 },
 "nbformat": 4,
 "nbformat_minor": 5
}
