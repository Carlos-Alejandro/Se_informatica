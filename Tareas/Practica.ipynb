{
 "cells": [
  {
   "cell_type": "code",
   "execution_count": null,
   "id": "ea2cf90b",
   "metadata": {},
   "outputs": [],
   "source": [
    "if (a>b){\n",
    "    print(\"Holamundo\")\n",
    "}"
   ]
  },
  {
   "cell_type": "code",
   "execution_count": 3,
   "id": "b5f33401",
   "metadata": {},
   "outputs": [
    {
     "name": "stdout",
     "output_type": "stream",
     "text": [
      "¿Como estas?\n"
     ]
    }
   ],
   "source": [
    "# Indentacón == 4 espacios.\n",
    "a = 2\n",
    "b = 5\n",
    "\n",
    "if a>b:\n",
    "    print(\"Hola Mundo\")\n",
    "    \n",
    "else: \n",
    "    print(\"¿Como estas?\")"
   ]
  },
  {
   "cell_type": "code",
   "execution_count": 3,
   "id": "ea123c54",
   "metadata": {},
   "outputs": [
    {
     "ename": "SyntaxError",
     "evalue": "unmatched ')' (2154362090.py, line 8)",
     "output_type": "error",
     "traceback": [
      "\u001b[1;36m  Cell \u001b[1;32mIn[3], line 8\u001b[1;36m\u001b[0m\n\u001b[1;33m    for(i = 0); ;i++){\u001b[0m\n\u001b[1;37m                    ^\u001b[0m\n\u001b[1;31mSyntaxError\u001b[0m\u001b[1;31m:\u001b[0m unmatched ')'\n"
     ]
    }
   ],
   "source": [
    "# Tipico \n",
    "for(inicio;final;avance){\n",
    "    codigo\n",
    "}\n",
    "\n",
    "colores = [\"Azul\", \"Blanco\",\"Negro\"]\n",
    "\n",
    "for(i = 0); ;i++){\n",
    "    codigo\n",
    "}"
   ]
  },
  {
   "cell_type": "code",
   "execution_count": 5,
   "id": "6b8d98da",
   "metadata": {},
   "outputs": [],
   "source": [
    "#python\n",
    "colores = [\"Azul\", \"Blanco\",\"Negro\"]\n",
    "\n",
    "for color = colores"
   ]
  },
  {
   "cell_type": "code",
   "execution_count": 6,
   "id": "ccbeca5f",
   "metadata": {},
   "outputs": [
    {
     "data": {
      "text/plain": [
       "1"
      ]
     },
     "execution_count": 6,
     "metadata": {},
     "output_type": "execute_result"
    }
   ],
   "source": [
    "numeros= [1,2,3,4,5,6,]\n",
    "num= iter(numeros)\n",
    "next(num)"
   ]
  },
  {
   "cell_type": "code",
   "execution_count": 1,
   "id": "bef7429f",
   "metadata": {},
   "outputs": [
    {
     "name": "stdout",
     "output_type": "stream",
     "text": [
      "1\n",
      "2\n",
      "3\n",
      "4\n",
      "5\n",
      "6\n",
      "7\n",
      "8\n",
      "9\n",
      "10\n"
     ]
    }
   ],
   "source": [
    "for i in range (1, 11):\n",
    "    print(i)"
   ]
  },
  {
   "cell_type": "code",
   "execution_count": 7,
   "id": "9633136b",
   "metadata": {},
   "outputs": [
    {
     "ename": "SyntaxError",
     "evalue": "invalid syntax (1506227611.py, line 5)",
     "output_type": "error",
     "traceback": [
      "\u001b[1;36m  Cell \u001b[1;32mIn[7], line 5\u001b[1;36m\u001b[0m\n\u001b[1;33m    1 - inicio de tablas\u001b[0m\n\u001b[1;37m               ^\u001b[0m\n\u001b[1;31mSyntaxError\u001b[0m\u001b[1;31m:\u001b[0m invalid syntax\n"
     ]
    }
   ],
   "source": [
    "#tabla infinita \n",
    "#El usuario va a definir el multiplicando y el multiplicador y el tamaño de la tabla\n",
    "\n",
    "\n",
    "1 - inicio de tablas \n",
    "3 - final de tablas\n",
    "\n",
    "3 - inicio multiplicar \n",
    "5 - final multiplicar \n",
    "\n",
    "1 x 3 = 3\n",
    "1 x 4 = 4\n",
    "1 x 5 = 5\n",
    "\n",
    "2 x 3 = 6\n",
    "2 x 4 = 8\n",
    "2 x 5 = 10\n",
    "\n",
    "3 x 3 = 9\n",
    "3 x 4 = 12\n",
    "3 x 4 = 15"
   ]
  },
  {
   "cell_type": "code",
   "execution_count": 1,
   "id": "2674ca0b",
   "metadata": {},
   "outputs": [
    {
     "name": "stdout",
     "output_type": "stream",
     "text": [
      "valor inicial: 1\n",
      "Final de las tablas: 3\n",
      "Valor inicial de la multiplicacion: 2\n",
      "Final de la multipicacion: 4\n",
      "1 x 2 = 2\n",
      "1 x 3 = 3\n",
      "1 x 4 = 4\n",
      "2 x 2 = 4\n",
      "2 x 3 = 6\n",
      "2 x 4 = 8\n",
      "3 x 2 = 6\n",
      "3 x 3 = 9\n",
      "3 x 4 = 12\n"
     ]
    }
   ],
   "source": [
    "iniciotab = int (input(\"valor inicial: \"))\n",
    "finaltab = int (input (\"Final de las tablas: \"))\n",
    "iniciomulti = int (input(\"Valor inicial de la multiplicacion: \"))\n",
    "finalmulti = int (input(\"Final de la multipicacion: \"))\n",
    "\n",
    "for multiplicando in range(iniciotab, finaltab + 1):\n",
    "    for multiplicador in range(iniciomulti, finalmulti + 1):\n",
    "        resultado = multiplicando * multiplicador \n",
    "        print(f\"{multiplicando} x {multiplicador} = {resultado}\")\n",
    "        "
   ]
  },
  {
   "cell_type": "code",
   "execution_count": null,
   "id": "4b3ef9ee",
   "metadata": {},
   "outputs": [],
   "source": []
  }
 ],
 "metadata": {
  "kernelspec": {
   "display_name": "Python 3 (ipykernel)",
   "language": "python",
   "name": "python3"
  },
  "language_info": {
   "codemirror_mode": {
    "name": "ipython",
    "version": 3
   },
   "file_extension": ".py",
   "mimetype": "text/x-python",
   "name": "python",
   "nbconvert_exporter": "python",
   "pygments_lexer": "ipython3",
   "version": "3.11.4"
  }
 },
 "nbformat": 4,
 "nbformat_minor": 5
}
