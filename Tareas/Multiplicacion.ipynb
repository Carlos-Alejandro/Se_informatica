{
 "cells": [
  {
   "cell_type": "code",
   "execution_count": 1,
   "id": "7785fc6a",
   "metadata": {},
   "outputs": [
    {
     "name": "stdout",
     "output_type": "stream",
     "text": [
      "valor inicial: 1\n",
      "Final de las tablas: 3\n",
      "Valor inicial de la multiplicacion: 2\n",
      "Final de la multipicacion: 4\n",
      "1 x 2 = 2\n",
      "1 x 3 = 3\n",
      "1 x 4 = 4\n",
      "2 x 2 = 4\n",
      "2 x 3 = 6\n",
      "2 x 4 = 8\n",
      "3 x 2 = 6\n",
      "3 x 3 = 9\n",
      "3 x 4 = 12\n"
     ]
    }
   ],
   "source": [
    "iniciotab = int (input(\"valor inicial: \"))\n",
    "finaltab = int (input (\"Final de las tablas: \"))\n",
    "iniciomulti = int (input(\"Valor inicial de la multiplicacion: \"))\n",
    "finalmulti = int (input(\"Final de la multipicacion: \"))\n",
    "\n",
    "for multiplicando in range(iniciotab, finaltab + 1):\n",
    "    for multiplicador in range(iniciomulti, finalmulti + 1):\n",
    "        resultado = multiplicando * multiplicador \n",
    "        print(f\"{multiplicando} x {multiplicador} = {resultado}\")"
   ]
  },
  {
   "cell_type": "code",
   "execution_count": 2,
   "id": "a38c8eca",
   "metadata": {},
   "outputs": [],
   "source": [
    "#Diccionario \n"
   ]
  },
  {
   "cell_type": "code",
   "execution_count": 4,
   "id": "f8f33aa3",
   "metadata": {},
   "outputs": [],
   "source": [
    "# formula = peso / altura^2 \n",
    "def imc(peso, estatura):\n",
    "    return peso/estatura**2\n",
    "print(imc(persona[\"peso\"], ))"
   ]
  },
  {
   "cell_type": "code",
   "execution_count": null,
   "id": "c4ab4ffe",
   "metadata": {},
   "outputs": [],
   "source": []
  }
 ],
 "metadata": {
  "kernelspec": {
   "display_name": "Python 3 (ipykernel)",
   "language": "python",
   "name": "python3"
  },
  "language_info": {
   "codemirror_mode": {
    "name": "ipython",
    "version": 3
   },
   "file_extension": ".py",
   "mimetype": "text/x-python",
   "name": "python",
   "nbconvert_exporter": "python",
   "pygments_lexer": "ipython3",
   "version": "3.11.4"
  }
 },
 "nbformat": 4,
 "nbformat_minor": 5
}
